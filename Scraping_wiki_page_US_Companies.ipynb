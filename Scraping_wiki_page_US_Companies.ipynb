{
 "cells": [
  {
   "cell_type": "code",
   "execution_count": 2,
   "id": "cb0f4ff4",
   "metadata": {},
   "outputs": [],
   "source": [
    "from bs4 import BeautifulSoup\n",
    "import requests"
   ]
  },
  {
   "cell_type": "code",
   "execution_count": 3,
   "id": "cc1b0c50",
   "metadata": {},
   "outputs": [],
   "source": [
    "url = \"http://www.scrapethissite.com/pages/forms/\""
   ]
  },
  {
   "cell_type": "code",
   "execution_count": 8,
   "id": "572bbbbd",
   "metadata": {},
   "outputs": [
    {
     "data": {
      "text/plain": [
       "<Response [200]>"
      ]
     },
     "execution_count": 8,
     "metadata": {},
     "output_type": "execute_result"
    }
   ],
   "source": [
    "page = requests.get(url)\n",
    "page"
   ]
  },
  {
   "cell_type": "code",
   "execution_count": 12,
   "id": "4a30c3c6",
   "metadata": {},
   "outputs": [],
   "source": [
    "soup = BeautifulSoup(page.text, 'html')\n"
   ]
  },
  {
   "cell_type": "code",
   "execution_count": 13,
   "id": "ad95ef7b",
   "metadata": {
    "collapsed": true
   },
   "outputs": [
    {
     "data": {
      "text/plain": [
       "'<!DOCTYPE html>\\n<html lang=\"en\">\\n <head>\\n  <meta charset=\"utf-8\"/>\\n  <title>\\n   Hockey Teams: Forms, Searching and Pagination | Scrape This Site | A public sandbox for learning web scraping\\n  </title>\\n  <link href=\"/static/images/scraper-icon.png\" rel=\"icon\" type=\"image/png\"/>\\n  <meta content=\"width=device-width, initial-scale=1.0\" name=\"viewport\"/>\\n  <meta content=\"Browse through a database of NHL team stats since 1990. Practice building a scraper that handles common website interface components.\" name=\"description\"/>\\n  <link crossorigin=\"anonymous\" href=\"https://maxcdn.bootstrapcdn.com/bootstrap/3.3.5/css/bootstrap.min.css\" integrity=\"sha256-MfvZlkHCEqatNoGiOXveE8FIwMzZg4W85qfrfIFBfYc= sha512-dTfge/zgoMYpP7QbHy4gWMEGsbsdZeCXz7irItjcC3sPUFtf0kuFbDz/ixG7ArTxmDjLXDmezHubeNikyKGVyQ==\" rel=\"stylesheet\"/>\\n  <link href=\"https://fonts.googleapis.com/css?family=Lato:400,700\" rel=\"stylesheet\" type=\"text/css\"/>\\n  <link href=\"/static/css/styles.css\" rel=\"stylesheet\" type=\"text/css\"/>\\n  <meta content=\"noindex\" name=\"robots\"/>\\n </head>\\n <body>\\n  <nav id=\"site-nav\">\\n   <div class=\"container\">\\n    <div class=\"col-md-12\">\\n     <ul class=\"nav nav-tabs\">\\n      <li id=\"nav-homepage\">\\n       <a class=\"nav-link hidden-sm hidden-xs\" href=\"/\">\\n        <img id=\"nav-logo\" src=\"/static/images/scraper-icon.png\"/>\\n        Scrape This Site\\n       </a>\\n      </li>\\n      <li id=\"nav-sandbox\">\\n       <a class=\"nav-link\" href=\"/pages/\">\\n        <i class=\"glyphicon glyphicon-console hidden-sm hidden-xs\">\\n        </i>\\n        Sandbox\\n       </a>\\n      </li>\\n      <li id=\"nav-lessons\">\\n       <a class=\"nav-link\" href=\"/lessons/\">\\n        <i class=\"glyphicon glyphicon-education hidden-sm hidden-xs\">\\n        </i>\\n        Lessons\\n       </a>\\n      </li>\\n      <li id=\"nav-faq\">\\n       <a class=\"nav-link\" href=\"/faq/\">\\n        <i class=\"glyphicon glyphicon-flag hidden-sm hidden-xs\">\\n        </i>\\n        FAQ\\n       </a>\\n      </li>\\n      <li class=\"pull-right\" id=\"nav-login\">\\n       <a class=\"nav-link\" href=\"/login/\">\\n        Login\\n       </a>\\n      </li>\\n     </ul>\\n    </div>\\n   </div>\\n  </nav>\\n  <script type=\"text/javascript\">\\n   var path = document.location.pathname;\\n            var tab = undefined;\\n            if (path === \"/\"){\\n                tab = document.querySelector(\"#nav-homepage\");\\n            } else if (path.indexOf(\"/faq/\") === 0){\\n                tab = document.querySelector(\"#nav-faq\");\\n            } else if (path.indexOf(\"/lessons/\") === 0){\\n                tab = document.querySelector(\"#nav-lessons\");\\n            } else if (path.indexOf(\"/pages/\") === 0) {\\n                tab = document.querySelector(\"#nav-sandbox\");\\n            } else if (path.indexOf(\"/login/\") === 0) {\\n                tab = document.querySelector(\"#nav-login\");\\n            }\\n            tab.classList.add(\"active\")\\n  </script>\\n  <div id=\"page\">\\n   <section id=\"hockey\">\\n    <div class=\"container\">\\n     <div class=\"row\">\\n      <div class=\"col-md-12\">\\n       <h1>\\n        Hockey Teams: Forms, Searching and Pagination\\n        <small>\\n         25 items\\n        </small>\\n       </h1>\\n       <hr/>\\n      </div>\\n     </div>\\n     <div class=\"row\">\\n      <div class=\"col-md-12\">\\n       <p class=\"lead\">\\n        Browse through a database of NHL team stats since 1990. Practice building a scraper that handles common website interface components.\\n                            Take a look at how pagination and search elements change the URL as your browse. Build a web scraper that can conduct searches and paginate through the results.\\n       </p>\\n       <hr/>\\n      </div>\\n     </div>\\n     <div class=\"row\">\\n      <div class=\"col-md-6\">\\n       <p>\\n        <i class=\"glyphicon glyphicon-education\">\\n        </i>\\n        There are\\n        <a href=\"/lessons/\">\\n         8 video lessons\\n        </a>\\n        that show you how to scrape this page.\\n       </p>\\n       <hr/>\\n      </div>\\n      <div class=\"col-md-6 text-right\">\\n       <p>\\n        Data via\\n        <a class=\"data-attribution\" href=\"http://www.opensourcesports.com/hockey/\" target=\"_blank\">\\n         http://www.opensourcesports.com/hockey/\\n        </a>\\n       </p>\\n       <hr/>\\n      </div>\\n     </div>\\n     <div class=\"row search-area\">\\n      <div class=\"col-md-12 text-center\">\\n       <form action=\"/pages/forms/\" class=\"form form-inline\" method=\"GET\">\\n        <label for=\"q\">\\n         Search for Teams:\\n        </label>\\n        <input class=\"form-control\" id=\"q\" name=\"q\" placeholder=\"Search for Teams\" type=\"text\"/>\\n        <input class=\"btn btn-primary\" type=\"submit\" value=\"Search\"/>\\n       </form>\\n       <hr/>\\n      </div>\\n     </div>\\n     <!--.row.search-area-->\\n     <table class=\"table\">\\n      <tr>\\n       <th>\\n        Team Name\\n       </th>\\n       <th>\\n        Year\\n       </th>\\n       <th>\\n        Wins\\n       </th>\\n       <th>\\n        Losses\\n       </th>\\n       <th>\\n        OT Losses\\n       </th>\\n       <th>\\n        Win %\\n       </th>\\n       <th>\\n        Goals For (GF)\\n       </th>\\n       <th>\\n        Goals Against (GA)\\n       </th>\\n       <th>\\n        + / -\\n       </th>\\n      </tr>\\n      <tr class=\"team\">\\n       <td class=\"name\">\\n        Boston Bruins\\n       </td>\\n       <td class=\"year\">\\n        1990\\n       </td>\\n       <td class=\"wins\">\\n        44\\n       </td>\\n       <td class=\"losses\">\\n        24\\n       </td>\\n       <td class=\"ot-losses\">\\n       </td>\\n       <td class=\"pct text-success\">\\n        0.55\\n       </td>\\n       <td class=\"gf\">\\n        299\\n       </td>\\n       <td class=\"ga\">\\n        264\\n       </td>\\n       <td class=\"diff text-success\">\\n        35\\n       </td>\\n      </tr>\\n      <tr class=\"team\">\\n       <td class=\"name\">\\n        Buffalo Sabres\\n       </td>\\n       <td class=\"year\">\\n        1990\\n       </td>\\n       <td class=\"wins\">\\n        31\\n       </td>\\n       <td class=\"losses\">\\n        30\\n       </td>\\n       <td class=\"ot-losses\">\\n       </td>\\n       <td class=\"pct text-danger\">\\n        0.388\\n       </td>\\n       <td class=\"gf\">\\n        292\\n       </td>\\n       <td class=\"ga\">\\n        278\\n       </td>\\n       <td class=\"diff text-success\">\\n        14\\n       </td>\\n      </tr>\\n      <tr class=\"team\">\\n       <td class=\"name\">\\n        Calgary Flames\\n       </td>\\n       <td class=\"year\">\\n        1990\\n       </td>\\n       <td class=\"wins\">\\n        46\\n       </td>\\n       <td class=\"losses\">\\n        26\\n       </td>\\n       <td class=\"ot-losses\">\\n       </td>\\n       <td class=\"pct text-success\">\\n        0.575\\n       </td>\\n       <td class=\"gf\">\\n        344\\n       </td>\\n       <td class=\"ga\">\\n        263\\n       </td>\\n       <td class=\"diff text-success\">\\n        81\\n       </td>\\n      </tr>\\n      <tr class=\"team\">\\n       <td class=\"name\">\\n        Chicago Blackhawks\\n       </td>\\n       <td class=\"year\">\\n        1990\\n       </td>\\n       <td class=\"wins\">\\n        49\\n       </td>\\n       <td class=\"losses\">\\n        23\\n       </td>\\n       <td class=\"ot-losses\">\\n       </td>\\n       <td class=\"pct text-success\">\\n        0.613\\n       </td>\\n       <td class=\"gf\">\\n        284\\n       </td>\\n       <td class=\"ga\">\\n        211\\n       </td>\\n       <td class=\"diff text-success\">\\n        73\\n       </td>\\n      </tr>\\n      <tr class=\"team\">\\n       <td class=\"name\">\\n        Detroit Red Wings\\n       </td>\\n       <td class=\"year\">\\n        1990\\n       </td>\\n       <td class=\"wins\">\\n        34\\n       </td>\\n       <td class=\"losses\">\\n        38\\n       </td>\\n       <td class=\"ot-losses\">\\n       </td>\\n       <td class=\"pct text-danger\">\\n        0.425\\n       </td>\\n       <td class=\"gf\">\\n        273\\n       </td>\\n       <td class=\"ga\">\\n        298\\n       </td>\\n       <td class=\"diff text-danger\">\\n        -25\\n       </td>\\n      </tr>\\n      <tr class=\"team\">\\n       <td class=\"name\">\\n        Edmonton Oilers\\n       </td>\\n       <td class=\"year\">\\n        1990\\n       </td>\\n       <td class=\"wins\">\\n        37\\n       </td>\\n       <td class=\"losses\">\\n        37\\n       </td>\\n       <td class=\"ot-losses\">\\n       </td>\\n       <td class=\"pct text-danger\">\\n        0.463\\n       </td>\\n       <td class=\"gf\">\\n        272\\n       </td>\\n       <td class=\"ga\">\\n        272\\n       </td>\\n       <td class=\"diff text-success\">\\n        0\\n       </td>\\n      </tr>\\n      <tr class=\"team\">\\n       <td class=\"name\">\\n        Hartford Whalers\\n       </td>\\n       <td class=\"year\">\\n        1990\\n       </td>\\n       <td class=\"wins\">\\n        31\\n       </td>\\n       <td class=\"losses\">\\n        38\\n       </td>\\n       <td class=\"ot-losses\">\\n       </td>\\n       <td class=\"pct text-danger\">\\n        0.388\\n       </td>\\n       <td class=\"gf\">\\n        238\\n       </td>\\n       <td class=\"ga\">\\n        276\\n       </td>\\n       <td class=\"diff text-danger\">\\n        -38\\n       </td>\\n      </tr>\\n      <tr class=\"team\">\\n       <td class=\"name\">\\n        Los Angeles Kings\\n       </td>\\n       <td class=\"year\">\\n        1990\\n       </td>\\n       <td class=\"wins\">\\n        46\\n       </td>\\n       <td class=\"losses\">\\n        24\\n       </td>\\n       <td class=\"ot-losses\">\\n       </td>\\n       <td class=\"pct text-success\">\\n        0.575\\n       </td>\\n       <td class=\"gf\">\\n        340\\n       </td>\\n       <td class=\"ga\">\\n        254\\n       </td>\\n       <td class=\"diff text-success\">\\n        86\\n       </td>\\n      </tr>\\n      <tr class=\"team\">\\n       <td class=\"name\">\\n        Minnesota North Stars\\n       </td>\\n       <td class=\"year\">\\n        1990\\n       </td>\\n       <td class=\"wins\">\\n        27\\n       </td>\\n       <td class=\"losses\">\\n        39\\n       </td>\\n       <td class=\"ot-losses\">\\n       </td>\\n       <td class=\"pct text-danger\">\\n        0.338\\n       </td>\\n       <td class=\"gf\">\\n        256\\n       </td>\\n       <td class=\"ga\">\\n        266\\n       </td>\\n       <td class=\"diff text-danger\">\\n        -10\\n       </td>\\n      </tr>\\n      <tr class=\"team\">\\n       <td class=\"name\">\\n        Montreal Canadiens\\n       </td>\\n       <td class=\"year\">\\n        1990\\n       </td>\\n       <td class=\"wins\">\\n        39\\n       </td>\\n       <td class=\"losses\">\\n        30\\n       </td>\\n       <td class=\"ot-losses\">\\n       </td>\\n       <td class=\"pct text-danger\">\\n        0.487\\n       </td>\\n       <td class=\"gf\">\\n        273\\n       </td>\\n       <td class=\"ga\">\\n        249\\n       </td>\\n       <td class=\"diff text-success\">\\n        24\\n       </td>\\n      </tr>\\n      <tr class=\"team\">\\n       <td class=\"name\">\\n        New Jersey Devils\\n       </td>\\n       <td class=\"year\">\\n        1990\\n       </td>\\n       <td class=\"wins\">\\n        32\\n       </td>\\n       <td class=\"losses\">\\n        33\\n       </td>\\n       <td class=\"ot-losses\">\\n       </td>\\n       <td class=\"pct text-danger\">\\n        0.4\\n       </td>\\n       <td class=\"gf\">\\n        272\\n       </td>\\n       <td class=\"ga\">\\n        264\\n       </td>\\n       <td class=\"diff text-success\">\\n        8\\n       </td>\\n      </tr>\\n      <tr class=\"team\">\\n       <td class=\"name\">\\n        New York Islanders\\n       </td>\\n       <td class=\"year\">\\n        1990\\n       </td>\\n       <td class=\"wins\">\\n        25\\n       </td>\\n       <td class=\"losses\">\\n        45\\n       </td>\\n       <td class=\"ot-losses\">\\n       </td>\\n       <td class=\"pct text-danger\">\\n        0.312\\n       </td>\\n       <td class=\"gf\">\\n        223\\n       </td>\\n       <td class=\"ga\">\\n        290\\n       </td>\\n       <td class=\"diff text-danger\">\\n        -67\\n       </td>\\n      </tr>\\n      <tr class=\"team\">\\n       <td class=\"name\">\\n        New York Rangers\\n       </td>\\n       <td class=\"year\">\\n        1990\\n       </td>\\n       <td class=\"wins\">\\n        36\\n       </td>\\n       <td class=\"losses\">\\n        31\\n       </td>\\n       <td class=\"ot-losses\">\\n       </td>\\n       <td class=\"pct text-danger\">\\n        0.45\\n       </td>\\n       <td class=\"gf\">\\n        297\\n       </td>\\n       <td class=\"ga\">\\n        265\\n       </td>\\n       <td class=\"diff text-success\">\\n        32\\n       </td>\\n      </tr>\\n      <tr class=\"team\">\\n       <td class=\"name\">\\n        Philadelphia Flyers\\n       </td>\\n       <td class=\"year\">\\n        1990\\n       </td>\\n       <td class=\"wins\">\\n        33\\n       </td>\\n       <td class=\"losses\">\\n        37\\n       </td>\\n       <td class=\"ot-losses\">\\n       </td>\\n       <td class=\"pct text-danger\">\\n        0.412\\n       </td>\\n       <td class=\"gf\">\\n        252\\n       </td>\\n       <td class=\"ga\">\\n        267\\n       </td>\\n       <td class=\"diff text-danger\">\\n        -15\\n       </td>\\n      </tr>\\n      <tr class=\"team\">\\n       <td class=\"name\">\\n        Pittsburgh Penguins\\n       </td>\\n       <td class=\"year\">\\n        1990\\n       </td>\\n       <td class=\"wins\">\\n        41\\n       </td>\\n       <td class=\"losses\">\\n        33\\n       </td>\\n       <td class=\"ot-losses\">\\n       </td>\\n       <td class=\"pct text-success\">\\n        0.512\\n       </td>\\n       <td class=\"gf\">\\n        342\\n       </td>\\n       <td class=\"ga\">\\n        305\\n       </td>\\n       <td class=\"diff text-success\">\\n        37\\n       </td>\\n      </tr>\\n      <tr class=\"team\">\\n       <td class=\"name\">\\n        Quebec Nordiques\\n       </td>\\n       <td class=\"year\">\\n        1990\\n       </td>\\n       <td class=\"wins\">\\n        16\\n       </td>\\n       <td class=\"losses\">\\n        50\\n       </td>\\n       <td class=\"ot-losses\">\\n       </td>\\n       <td class=\"pct text-danger\">\\n        0.2\\n       </td>\\n       <td class=\"gf\">\\n        236\\n       </td>\\n       <td class=\"ga\">\\n        354\\n       </td>\\n       <td class=\"diff text-danger\">\\n        -118\\n       </td>\\n      </tr>\\n      <tr class=\"team\">\\n       <td class=\"name\">\\n        St. Louis Blues\\n       </td>\\n       <td class=\"year\">\\n        1990\\n       </td>\\n       <td class=\"wins\">\\n        47\\n       </td>\\n       <td class=\"losses\">\\n        22\\n       </td>\\n       <td class=\"ot-losses\">\\n       </td>\\n       <td class=\"pct text-success\">\\n        0.588\\n       </td>\\n       <td class=\"gf\">\\n        310\\n       </td>\\n       <td class=\"ga\">\\n        250\\n       </td>\\n       <td class=\"diff text-success\">\\n        60\\n       </td>\\n      </tr>\\n      <tr class=\"team\">\\n       <td class=\"name\">\\n        Toronto Maple Leafs\\n       </td>\\n       <td class=\"year\">\\n        1990\\n       </td>\\n       <td class=\"wins\">\\n        23\\n       </td>\\n       <td class=\"losses\">\\n        46\\n       </td>\\n       <td class=\"ot-losses\">\\n       </td>\\n       <td class=\"pct text-danger\">\\n        0.287\\n       </td>\\n       <td class=\"gf\">\\n        241\\n       </td>\\n       <td class=\"ga\">\\n        318\\n       </td>\\n       <td class=\"diff text-danger\">\\n        -77\\n       </td>\\n      </tr>\\n      <tr class=\"team\">\\n       <td class=\"name\">\\n        Vancouver Canucks\\n       </td>\\n       <td class=\"year\">\\n        1990\\n       </td>\\n       <td class=\"wins\">\\n        28\\n       </td>\\n       <td class=\"losses\">\\n        43\\n       </td>\\n       <td class=\"ot-losses\">\\n       </td>\\n       <td class=\"pct text-danger\">\\n        0.35\\n       </td>\\n       <td class=\"gf\">\\n        243\\n       </td>\\n       <td class=\"ga\">\\n        315\\n       </td>\\n       <td class=\"diff text-danger\">\\n        -72\\n       </td>\\n      </tr>\\n      <tr class=\"team\">\\n       <td class=\"name\">\\n        Washington Capitals\\n       </td>\\n       <td class=\"year\">\\n        1990\\n       </td>\\n       <td class=\"wins\">\\n        37\\n       </td>\\n       <td class=\"losses\">\\n        36\\n       </td>\\n       <td class=\"ot-losses\">\\n       </td>\\n       <td class=\"pct text-danger\">\\n        0.463\\n       </td>\\n       <td class=\"gf\">\\n        258\\n       </td>\\n       <td class=\"ga\">\\n        258\\n       </td>\\n       <td class=\"diff text-success\">\\n        0\\n       </td>\\n      </tr>\\n      <tr class=\"team\">\\n       <td class=\"name\">\\n        Winnipeg Jets\\n       </td>\\n       <td class=\"year\">\\n        1990\\n       </td>\\n       <td class=\"wins\">\\n        26\\n       </td>\\n       <td class=\"losses\">\\n        43\\n       </td>\\n       <td class=\"ot-losses\">\\n       </td>\\n       <td class=\"pct text-danger\">\\n        0.325\\n       </td>\\n       <td class=\"gf\">\\n        260\\n       </td>\\n       <td class=\"ga\">\\n        288\\n       </td>\\n       <td class=\"diff text-danger\">\\n        -28\\n       </td>\\n      </tr>\\n      <tr class=\"team\">\\n       <td class=\"name\">\\n        Boston Bruins\\n       </td>\\n       <td class=\"year\">\\n        1991\\n       </td>\\n       <td class=\"wins\">\\n        36\\n       </td>\\n       <td class=\"losses\">\\n        32\\n       </td>\\n       <td class=\"ot-losses\">\\n       </td>\\n       <td class=\"pct text-danger\">\\n        0.45\\n       </td>\\n       <td class=\"gf\">\\n        270\\n       </td>\\n       <td class=\"ga\">\\n        275\\n       </td>\\n       <td class=\"diff text-danger\">\\n        -5\\n       </td>\\n      </tr>\\n      <tr class=\"team\">\\n       <td class=\"name\">\\n        Buffalo Sabres\\n       </td>\\n       <td class=\"year\">\\n        1991\\n       </td>\\n       <td class=\"wins\">\\n        31\\n       </td>\\n       <td class=\"losses\">\\n        37\\n       </td>\\n       <td class=\"ot-losses\">\\n       </td>\\n       <td class=\"pct text-danger\">\\n        0.388\\n       </td>\\n       <td class=\"gf\">\\n        289\\n       </td>\\n       <td class=\"ga\">\\n        299\\n       </td>\\n       <td class=\"diff text-danger\">\\n        -10\\n       </td>\\n      </tr>\\n      <tr class=\"team\">\\n       <td class=\"name\">\\n        Calgary Flames\\n       </td>\\n       <td class=\"year\">\\n        1991\\n       </td>\\n       <td class=\"wins\">\\n        31\\n       </td>\\n       <td class=\"losses\">\\n        37\\n       </td>\\n       <td class=\"ot-losses\">\\n       </td>\\n       <td class=\"pct text-danger\">\\n        0.388\\n       </td>\\n       <td class=\"gf\">\\n        296\\n       </td>\\n       <td class=\"ga\">\\n        305\\n       </td>\\n       <td class=\"diff text-danger\">\\n        -9\\n       </td>\\n      </tr>\\n      <tr class=\"team\">\\n       <td class=\"name\">\\n        Chicago Blackhawks\\n       </td>\\n       <td class=\"year\">\\n        1991\\n       </td>\\n       <td class=\"wins\">\\n        36\\n       </td>\\n       <td class=\"losses\">\\n        29\\n       </td>\\n       <td class=\"ot-losses\">\\n       </td>\\n       <td class=\"pct text-danger\">\\n        0.45\\n       </td>\\n       <td class=\"gf\">\\n        257\\n       </td>\\n       <td class=\"ga\">\\n        236\\n       </td>\\n       <td class=\"diff text-success\">\\n        21\\n       </td>\\n      </tr>\\n     </table>\\n     <div class=\"row pagination-area\">\\n      <div class=\"col-md-10 text-center\">\\n       <ul class=\"pagination\">\\n        <li>\\n         <a href=\"/pages/forms/?page_num=1\">\\n          1\\n         </a>\\n        </li>\\n        <li>\\n         <a href=\"/pages/forms/?page_num=2\">\\n          2\\n         </a>\\n        </li>\\n        <li>\\n         <a href=\"/pages/forms/?page_num=3\">\\n          3\\n         </a>\\n        </li>\\n        <li>\\n         <a href=\"/pages/forms/?page_num=4\">\\n          4\\n         </a>\\n        </li>\\n        <li>\\n         <a href=\"/pages/forms/?page_num=5\">\\n          5\\n         </a>\\n        </li>\\n        <li>\\n         <a href=\"/pages/forms/?page_num=6\">\\n          6\\n         </a>\\n        </li>\\n        <li>\\n         <a href=\"/pages/forms/?page_num=7\">\\n          7\\n         </a>\\n        </li>\\n        <li>\\n         <a href=\"/pages/forms/?page_num=8\">\\n          8\\n         </a>\\n        </li>\\n        <li>\\n         <a href=\"/pages/forms/?page_num=9\">\\n          9\\n         </a>\\n        </li>\\n        <li>\\n         <a href=\"/pages/forms/?page_num=10\">\\n          10\\n         </a>\\n        </li>\\n        <li>\\n         <a href=\"/pages/forms/?page_num=11\">\\n          11\\n         </a>\\n        </li>\\n        <li>\\n         <a href=\"/pages/forms/?page_num=12\">\\n          12\\n         </a>\\n        </li>\\n        <li>\\n         <a href=\"/pages/forms/?page_num=13\">\\n          13\\n         </a>\\n        </li>\\n        <li>\\n         <a href=\"/pages/forms/?page_num=14\">\\n          14\\n         </a>\\n        </li>\\n        <li>\\n         <a href=\"/pages/forms/?page_num=15\">\\n          15\\n         </a>\\n        </li>\\n        <li>\\n         <a href=\"/pages/forms/?page_num=16\">\\n          16\\n         </a>\\n        </li>\\n        <li>\\n         <a href=\"/pages/forms/?page_num=17\">\\n          17\\n         </a>\\n        </li>\\n        <li>\\n         <a href=\"/pages/forms/?page_num=18\">\\n          18\\n         </a>\\n        </li>\\n        <li>\\n         <a href=\"/pages/forms/?page_num=19\">\\n          19\\n         </a>\\n        </li>\\n        <li>\\n         <a href=\"/pages/forms/?page_num=20\">\\n          20\\n         </a>\\n        </li>\\n        <li>\\n         <a href=\"/pages/forms/?page_num=21\">\\n          21\\n         </a>\\n        </li>\\n        <li>\\n         <a href=\"/pages/forms/?page_num=22\">\\n          22\\n         </a>\\n        </li>\\n        <li>\\n         <a href=\"/pages/forms/?page_num=23\">\\n          23\\n         </a>\\n        </li>\\n        <li>\\n         <a href=\"/pages/forms/?page_num=24\">\\n          24\\n         </a>\\n        </li>\\n        <li>\\n         <a aria-label=\"Next\" href=\"/pages/forms/?page_num=1\">\\n          <span aria-hidden=\"true\">\\n           »\\n          </span>\\n         </a>\\n        </li>\\n       </ul>\\n      </div>\\n      <!--.col-->\\n      <div class=\"col-md-1\" style=\"padding:20px 0\">\\n       <strong>\\n        Per Page\\n       </strong>\\n      </div>\\n      <div class=\"col-md-1\" style=\"padding:20px 0\">\\n       <select class=\"form-control col-md-3\" id=\"per_page\">\\n        <option value=\"25\">\\n         25\\n        </option>\\n        <option value=\"50\">\\n         50\\n        </option>\\n        <option value=\"100\">\\n         100\\n        </option>\\n       </select>\\n      </div>\\n      <!--.col-->\\n     </div>\\n     <!--.row.pagination-area-->\\n    </div>\\n    <!--.container-->\\n   </section>\\n  </div>\\n  <!--#page-->\\n  <section id=\"footer\">\\n   <div class=\"container\">\\n    <div class=\"row\">\\n     <div class=\"col-md-12 text-center text-muted\">\\n      Lessons and Videos © Hartley Brody 2023\\n     </div>\\n     <!--.col-->\\n    </div>\\n    <!--.row-->\\n   </div>\\n   <!--.container-->\\n  </section>\\n </body>\\n <script src=\"https://ajax.googleapis.com/ajax/libs/jquery/1.11.3/jquery.min.js\">\\n </script>\\n <script crossorigin=\"anonymous\" integrity=\"sha256-Sk3nkD6mLTMOF0EOpNtsIry+s1CsaqQC1rVLTAy+0yc= sha512-K1qjQ+NcF2TYO/eI3M6v8EiNYZfA95pQumfvcVrTHtwQVDG+aHRqLi/ETn2uB+1JqwYqVG3LIvdm9lj6imS/pQ==\" src=\"https://maxcdn.bootstrapcdn.com/bootstrap/3.3.5/js/bootstrap.min.js\">\\n </script>\\n <script type=\"text/javascript\">\\n  $(document).ready( function(){\\n            $(\"#per_page\").change(function(){\\n                prot = document.location.protocol\\n                host = \\'www.scrapethissite.com\\'\\n                path = document.location.pathname\\n                args = {\\n                    \"per_page\": $(\"#per_page\").val(),\\n                }\\n                search_val = $(\"#q\").val()\\n                if (search_val){\\n                    args[\"q\"] = search_val;\\n                }\\n                document.location = prot + \\'//\\' + host + path + \\'?\\' + $.param(args);\\n            })\\n        });\\n </script>\\n <script src=\"https://cdnjs.cloudflare.com/ajax/libs/pnotify/2.1.0/pnotify.core.min.js\">\\n </script>\\n <link href=\"https://cdnjs.cloudflare.com/ajax/libs/pnotify/2.1.0/pnotify.core.min.css\" rel=\"stylesheet\" type=\"text/css\"/>\\n <!-- pnotify messages -->\\n <script type=\"text/javascript\">\\n  PNotify.prototype.options.styling = \"bootstrap3\";\\n    $(function(){\\n      \\n    });\\n    \\n\\n    $(function () {\\n      $(\\'[data-toggle=\"tooltip\"]\\').tooltip()\\n    })\\n </script>\\n <!-- golbal video controls -->\\n <script type=\"text/javascript\">\\n  $(\"video\").hover(function() {\\n        $(this).prop(\"controls\", true);\\n    }, function() {\\n        $(this).prop(\"controls\", false);\\n    });\\n\\n    $(\"video\").click(function() {\\n        if( this.paused){\\n            this.play();\\n        }\\n        else {\\n            this.pause();\\n        }\\n    });\\n </script>\\n <!-- insert google analytics here -->\\n <script>\\n  (function(i,s,o,g,r,a,m){i[\\'GoogleAnalyticsObject\\']=r;i[r]=i[r]||function(){\\n    (i[r].q=i[r].q||[]).push(arguments)},i[r].l=1*new Date();a=s.createElement(o),\\n    m=s.getElementsByTagName(o)[0];a.async=1;a.src=g;m.parentNode.insertBefore(a,m)\\n    })(window,document,\\'script\\',\\'https://www.google-analytics.com/analytics.js\\',\\'ga\\');\\n\\n    ga(\\'create\\', \\'UA-41551755-8\\', \\'auto\\');\\n    ga(\\'send\\', \\'pageview\\');\\n </script>\\n <!-- Facebook Pixel Code -->\\n <script>\\n  !function(f,b,e,v,n,t,s){if(f.fbq)return;n=f.fbq=function(){n.callMethod?\\n  n.callMethod.apply(n,arguments):n.queue.push(arguments)};if(!f._fbq)f._fbq=n;\\n  n.push=n;n.loaded=!0;n.version=\\'2.0\\';n.queue=[];t=b.createElement(e);t.async=!0;\\n  t.src=v;s=b.getElementsByTagName(e)[0];s.parentNode.insertBefore(t,s)}(window,\\n  document,\\'script\\',\\'https://connect.facebook.net/en_US/fbevents.js\\');\\n\\n  fbq(\\'init\\', \\'764287443701341\\');\\n  fbq(\\'track\\', \"PageView\");\\n </script>\\n <noscript>\\n  <img height=\"1\" src=\"https://www.facebook.com/tr?id=764287443701341&amp;ev=PageView&amp;noscript=1\" style=\"display:none\" width=\"1\"/>\\n </noscript>\\n <!-- End Facebook Pixel Code -->\\n <!-- Google Code for Remarketing Tag -->\\n <script type=\"text/javascript\">\\n  /* <![CDATA[ */\\n    var google_conversion_id = 950945448;\\n    var google_custom_params = window.google_tag_params;\\n    var google_remarketing_only = true;\\n    /* ]]> */\\n </script>\\n <script src=\"//www.googleadservices.com/pagead/conversion.js\" type=\"text/javascript\">\\n </script>\\n <noscript>\\n  <div style=\"display:inline;\">\\n   <img alt=\"\" height=\"1\" src=\"//googleads.g.doubleclick.net/pagead/viewthroughconversion/950945448/?guid=ON&amp;script=0\" style=\"border-style:none;\" width=\"1\"/>\\n  </div>\\n </noscript>\\n <!-- Global site tag (gtag.js) - Google AdWords: 950945448 -->\\n <script async=\"\" src=\"https://www.googletagmanager.com/gtag/js?id=AW-950945448\">\\n </script>\\n <script>\\n  window.dataLayer = window.dataLayer || [];\\n   function gtag(){dataLayer.push(arguments);}\\n   gtag(\\'js\\', new Date());\\n\\n   gtag(\\'config\\', \\'AW-950945448\\');\\n </script>\\n</html>\\n'"
      ]
     },
     "execution_count": 13,
     "metadata": {},
     "output_type": "execute_result"
    }
   ],
   "source": [
    "soup.prettify()"
   ]
  },
  {
   "cell_type": "code",
   "execution_count": 25,
   "id": "fda3a7ba",
   "metadata": {},
   "outputs": [
    {
     "data": {
      "text/plain": [
       "'\\n                            Browse through a database of NHL team stats since 1990. Practice building a scraper that handles common website interface components.\\n                            Take a look at how pagination and search elements change the URL as your browse. Build a web scraper that can conduct searches and paginate through the results.\\n                        '"
      ]
     },
     "execution_count": 25,
     "metadata": {},
     "output_type": "execute_result"
    }
   ],
   "source": [
    "soup.find('p',class_ ='lead').text"
   ]
  },
  {
   "cell_type": "code",
   "execution_count": null,
   "id": "8fc1580c",
   "metadata": {},
   "outputs": [],
   "source": [
    "#.text diesn't work with find_all(), it only works with find()"
   ]
  },
  {
   "cell_type": "code",
   "execution_count": 38,
   "id": "79829981",
   "metadata": {},
   "outputs": [
    {
     "data": {
      "text/plain": [
       "'Team Name'"
      ]
     },
     "execution_count": 38,
     "metadata": {},
     "output_type": "execute_result"
    }
   ],
   "source": [
    "soup.find('th').text.strip()"
   ]
  },
  {
   "cell_type": "markdown",
   "id": "90fdc34a",
   "metadata": {},
   "source": [
    "### scraping from a real website +pandas"
   ]
  },
  {
   "cell_type": "code",
   "execution_count": 39,
   "id": "a857c6d2",
   "metadata": {},
   "outputs": [],
   "source": [
    "url = 'https://en.wikipedia.org/wiki/List_of_largest_companies_in_the_United_States_by_revenue'"
   ]
  },
  {
   "cell_type": "code",
   "execution_count": 41,
   "id": "e53fc386",
   "metadata": {},
   "outputs": [],
   "source": [
    "page = requests.get(url)\n",
    "\n",
    "soup = BeautifulSoup(page.text,'html')"
   ]
  },
  {
   "cell_type": "code",
   "execution_count": 56,
   "id": "dd1cfa0a",
   "metadata": {},
   "outputs": [],
   "source": [
    "table = soup.find_all('table')[1]\n",
    "\n",
    "# we can use indexing in retrieving tags"
   ]
  },
  {
   "cell_type": "code",
   "execution_count": 57,
   "id": "449228ab",
   "metadata": {},
   "outputs": [
    {
     "data": {
      "text/plain": [
       "[<th>Rank\n",
       " </th>,\n",
       " <th>Name\n",
       " </th>,\n",
       " <th>Industry\n",
       " </th>,\n",
       " <th>Revenue <br/>(USD millions)\n",
       " </th>,\n",
       " <th>Revenue growth\n",
       " </th>,\n",
       " <th>Employees\n",
       " </th>,\n",
       " <th>Headquarters\n",
       " </th>]"
      ]
     },
     "execution_count": 57,
     "metadata": {},
     "output_type": "execute_result"
    }
   ],
   "source": [
    "world_titles = table.find_all('th')\n",
    "world_titles"
   ]
  },
  {
   "cell_type": "code",
   "execution_count": 58,
   "id": "34379765",
   "metadata": {},
   "outputs": [
    {
     "data": {
      "text/plain": [
       "['Rank',\n",
       " 'Name',\n",
       " 'Industry',\n",
       " 'Revenue (USD millions)',\n",
       " 'Revenue growth',\n",
       " 'Employees',\n",
       " 'Headquarters']"
      ]
     },
     "execution_count": 58,
     "metadata": {},
     "output_type": "execute_result"
    }
   ],
   "source": [
    "world_table_titles = [title.text.strip() for title in world_titles]\n",
    "world_table_titles"
   ]
  },
  {
   "cell_type": "code",
   "execution_count": 59,
   "id": "bbe77ca4",
   "metadata": {},
   "outputs": [],
   "source": [
    "import pandas as pd"
   ]
  },
  {
   "cell_type": "code",
   "execution_count": 60,
   "id": "00ff2702",
   "metadata": {},
   "outputs": [],
   "source": [
    "df = pd.DataFrame(columns=world_table_titles)"
   ]
  },
  {
   "cell_type": "code",
   "execution_count": 61,
   "id": "6e79c454",
   "metadata": {},
   "outputs": [
    {
     "data": {
      "text/html": [
       "<div>\n",
       "<style scoped>\n",
       "    .dataframe tbody tr th:only-of-type {\n",
       "        vertical-align: middle;\n",
       "    }\n",
       "\n",
       "    .dataframe tbody tr th {\n",
       "        vertical-align: top;\n",
       "    }\n",
       "\n",
       "    .dataframe thead th {\n",
       "        text-align: right;\n",
       "    }\n",
       "</style>\n",
       "<table border=\"1\" class=\"dataframe\">\n",
       "  <thead>\n",
       "    <tr style=\"text-align: right;\">\n",
       "      <th></th>\n",
       "      <th>Rank</th>\n",
       "      <th>Name</th>\n",
       "      <th>Industry</th>\n",
       "      <th>Revenue (USD millions)</th>\n",
       "      <th>Revenue growth</th>\n",
       "      <th>Employees</th>\n",
       "      <th>Headquarters</th>\n",
       "    </tr>\n",
       "  </thead>\n",
       "  <tbody>\n",
       "  </tbody>\n",
       "</table>\n",
       "</div>"
      ],
      "text/plain": [
       "Empty DataFrame\n",
       "Columns: [Rank, Name, Industry, Revenue (USD millions), Revenue growth, Employees, Headquarters]\n",
       "Index: []"
      ]
     },
     "execution_count": 61,
     "metadata": {},
     "output_type": "execute_result"
    }
   ],
   "source": [
    "df"
   ]
  },
  {
   "cell_type": "code",
   "execution_count": 71,
   "id": "2c047e01",
   "metadata": {},
   "outputs": [],
   "source": [
    "column_data = table.find_all('tr')"
   ]
  },
  {
   "cell_type": "code",
   "execution_count": 78,
   "id": "e36d15e6",
   "metadata": {},
   "outputs": [],
   "source": [
    "for row in column_data[1:]:\n",
    "    row_data = row.find_all('td')\n",
    "    individual_row_data = [data.text.strip() for data in row_data]\n",
    "    length = len(df)\n",
    "    df.loc[length] = individual_row_data\n",
    "    "
   ]
  },
  {
   "cell_type": "code",
   "execution_count": 81,
   "id": "3dadf18d",
   "metadata": {},
   "outputs": [
    {
     "data": {
      "text/html": [
       "<div>\n",
       "<style scoped>\n",
       "    .dataframe tbody tr th:only-of-type {\n",
       "        vertical-align: middle;\n",
       "    }\n",
       "\n",
       "    .dataframe tbody tr th {\n",
       "        vertical-align: top;\n",
       "    }\n",
       "\n",
       "    .dataframe thead th {\n",
       "        text-align: right;\n",
       "    }\n",
       "</style>\n",
       "<table border=\"1\" class=\"dataframe\">\n",
       "  <thead>\n",
       "    <tr style=\"text-align: right;\">\n",
       "      <th></th>\n",
       "      <th>Rank</th>\n",
       "      <th>Name</th>\n",
       "      <th>Industry</th>\n",
       "      <th>Revenue (USD millions)</th>\n",
       "      <th>Revenue growth</th>\n",
       "      <th>Employees</th>\n",
       "      <th>Headquarters</th>\n",
       "    </tr>\n",
       "  </thead>\n",
       "  <tbody>\n",
       "    <tr>\n",
       "      <th>0</th>\n",
       "      <td>1</td>\n",
       "      <td>Walmart</td>\n",
       "      <td>Retail</td>\n",
       "      <td>611,289</td>\n",
       "      <td>6.7%</td>\n",
       "      <td>2,100,000</td>\n",
       "      <td>Bentonville, Arkansas</td>\n",
       "    </tr>\n",
       "    <tr>\n",
       "      <th>1</th>\n",
       "      <td>2</td>\n",
       "      <td>Amazon</td>\n",
       "      <td>Retail and cloud computing</td>\n",
       "      <td>513,983</td>\n",
       "      <td>9.4%</td>\n",
       "      <td>1,540,000</td>\n",
       "      <td>Seattle, Washington</td>\n",
       "    </tr>\n",
       "    <tr>\n",
       "      <th>2</th>\n",
       "      <td>3</td>\n",
       "      <td>ExxonMobil</td>\n",
       "      <td>Petroleum industry</td>\n",
       "      <td>413,680</td>\n",
       "      <td>44.8%</td>\n",
       "      <td>62,000</td>\n",
       "      <td>Spring, Texas</td>\n",
       "    </tr>\n",
       "    <tr>\n",
       "      <th>3</th>\n",
       "      <td>4</td>\n",
       "      <td>Apple</td>\n",
       "      <td>Electronics industry</td>\n",
       "      <td>394,328</td>\n",
       "      <td>7.8%</td>\n",
       "      <td>164,000</td>\n",
       "      <td>Cupertino, California</td>\n",
       "    </tr>\n",
       "    <tr>\n",
       "      <th>4</th>\n",
       "      <td>5</td>\n",
       "      <td>UnitedHealth Group</td>\n",
       "      <td>Healthcare</td>\n",
       "      <td>324,162</td>\n",
       "      <td>12.7%</td>\n",
       "      <td>400,000</td>\n",
       "      <td>Minnetonka, Minnesota</td>\n",
       "    </tr>\n",
       "    <tr>\n",
       "      <th>...</th>\n",
       "      <td>...</td>\n",
       "      <td>...</td>\n",
       "      <td>...</td>\n",
       "      <td>...</td>\n",
       "      <td>...</td>\n",
       "      <td>...</td>\n",
       "      <td>...</td>\n",
       "    </tr>\n",
       "    <tr>\n",
       "      <th>95</th>\n",
       "      <td>96</td>\n",
       "      <td>Best Buy</td>\n",
       "      <td>Retail</td>\n",
       "      <td>46,298</td>\n",
       "      <td>10.6%</td>\n",
       "      <td>71,100</td>\n",
       "      <td>Richfield, Minnesota</td>\n",
       "    </tr>\n",
       "    <tr>\n",
       "      <th>96</th>\n",
       "      <td>97</td>\n",
       "      <td>Bristol-Myers Squibb</td>\n",
       "      <td>Pharmaceutical industry</td>\n",
       "      <td>46,159</td>\n",
       "      <td>0.5%</td>\n",
       "      <td>34,300</td>\n",
       "      <td>New York City, New York</td>\n",
       "    </tr>\n",
       "    <tr>\n",
       "      <th>97</th>\n",
       "      <td>98</td>\n",
       "      <td>United Airlines</td>\n",
       "      <td>Airline</td>\n",
       "      <td>44,955</td>\n",
       "      <td>82.5%</td>\n",
       "      <td>92,795</td>\n",
       "      <td>Chicago, Illinois</td>\n",
       "    </tr>\n",
       "    <tr>\n",
       "      <th>98</th>\n",
       "      <td>99</td>\n",
       "      <td>Thermo Fisher Scientific</td>\n",
       "      <td>Laboratory instruments</td>\n",
       "      <td>44,915</td>\n",
       "      <td>14.5%</td>\n",
       "      <td>130,000</td>\n",
       "      <td>Waltham, Massachusetts</td>\n",
       "    </tr>\n",
       "    <tr>\n",
       "      <th>99</th>\n",
       "      <td>100</td>\n",
       "      <td>Qualcomm</td>\n",
       "      <td>Technology</td>\n",
       "      <td>44,200</td>\n",
       "      <td>31.7%</td>\n",
       "      <td>51,000</td>\n",
       "      <td>San Diego, California</td>\n",
       "    </tr>\n",
       "  </tbody>\n",
       "</table>\n",
       "<p>100 rows × 7 columns</p>\n",
       "</div>"
      ],
      "text/plain": [
       "   Rank                      Name                    Industry  \\\n",
       "0     1                   Walmart                      Retail   \n",
       "1     2                    Amazon  Retail and cloud computing   \n",
       "2     3                ExxonMobil          Petroleum industry   \n",
       "3     4                     Apple        Electronics industry   \n",
       "4     5        UnitedHealth Group                  Healthcare   \n",
       "..  ...                       ...                         ...   \n",
       "95   96                  Best Buy                      Retail   \n",
       "96   97      Bristol-Myers Squibb     Pharmaceutical industry   \n",
       "97   98           United Airlines                     Airline   \n",
       "98   99  Thermo Fisher Scientific      Laboratory instruments   \n",
       "99  100                  Qualcomm                  Technology   \n",
       "\n",
       "   Revenue (USD millions) Revenue growth  Employees             Headquarters  \n",
       "0                 611,289           6.7%  2,100,000    Bentonville, Arkansas  \n",
       "1                 513,983           9.4%  1,540,000      Seattle, Washington  \n",
       "2                 413,680          44.8%     62,000            Spring, Texas  \n",
       "3                 394,328           7.8%    164,000    Cupertino, California  \n",
       "4                 324,162          12.7%    400,000    Minnetonka, Minnesota  \n",
       "..                    ...            ...        ...                      ...  \n",
       "95                 46,298          10.6%     71,100     Richfield, Minnesota  \n",
       "96                 46,159           0.5%     34,300  New York City, New York  \n",
       "97                 44,955          82.5%     92,795        Chicago, Illinois  \n",
       "98                 44,915          14.5%    130,000   Waltham, Massachusetts  \n",
       "99                 44,200          31.7%     51,000    San Diego, California  \n",
       "\n",
       "[100 rows x 7 columns]"
      ]
     },
     "execution_count": 81,
     "metadata": {},
     "output_type": "execute_result"
    }
   ],
   "source": [
    "df"
   ]
  },
  {
   "cell_type": "code",
   "execution_count": 84,
   "id": "404ee7aa",
   "metadata": {},
   "outputs": [],
   "source": [
    "df.to_csv(r'Z:\\Scraping_companies.csv', index= False)"
   ]
  },
  {
   "cell_type": "code",
   "execution_count": null,
   "id": "7218ac78",
   "metadata": {},
   "outputs": [],
   "source": []
  },
  {
   "cell_type": "code",
   "execution_count": null,
   "id": "dbc9dae8",
   "metadata": {},
   "outputs": [],
   "source": []
  },
  {
   "cell_type": "code",
   "execution_count": null,
   "id": "390cd3ff",
   "metadata": {},
   "outputs": [],
   "source": []
  }
 ],
 "metadata": {
  "kernelspec": {
   "display_name": "Python 3 (ipykernel)",
   "language": "python",
   "name": "python3"
  },
  "language_info": {
   "codemirror_mode": {
    "name": "ipython",
    "version": 3
   },
   "file_extension": ".py",
   "mimetype": "text/x-python",
   "name": "python",
   "nbconvert_exporter": "python",
   "pygments_lexer": "ipython3",
   "version": "3.11.5"
  }
 },
 "nbformat": 4,
 "nbformat_minor": 5
}
