{
 "cells": [
  {
   "cell_type": "code",
   "execution_count": 23,
   "id": "2629d742",
   "metadata": {},
   "outputs": [],
   "source": [
    "import sys\n",
    "import os, shutil"
   ]
  },
  {
   "cell_type": "code",
   "execution_count": 52,
   "id": "114c6b0a",
   "metadata": {},
   "outputs": [],
   "source": [
    "path = r\"C:/Users/aksab/OneDrive/Documents/abcd//\""
   ]
  },
  {
   "cell_type": "code",
   "execution_count": 53,
   "id": "af12298f",
   "metadata": {},
   "outputs": [
    {
     "data": {
      "text/plain": [
       "['5116433.jpg',\n",
       " 'Apocolypse Food Prep.xlsx',\n",
       " 'brave c.r.y.pto.txt',\n",
       " 'vgsales.csv']"
      ]
     },
     "execution_count": 53,
     "metadata": {},
     "output_type": "execute_result"
    }
   ],
   "source": [
    "file = os.listdir(path)\n",
    "file"
   ]
  },
  {
   "cell_type": "code",
   "execution_count": 54,
   "id": "2b0e8a73",
   "metadata": {},
   "outputs": [],
   "source": [
    "folder_names = ['CSV files','Image files','text files']\n",
    "\n",
    "for loop in range(0,3):\n",
    "    if not os.path.exists(path+ folder_names[loop] ):\n",
    "       # print(path + folder_names[loop])\n",
    "        os.makedirs(path + folder_names[loop])\n",
    "        \n",
    "for doc in file:\n",
    "    if '.xlsx' in doc and not os.path.exists(path + 'CSV files/'+ doc):\n",
    "        shutil.move(path + doc,path + 'CSV files/', doc)\n",
    "    elif '.jpg' in doc and not os.path.exists(path + 'CSV files/'+ doc):\n",
    "        shutil.move(path + doc,path + 'Image files/', doc)\n",
    "    elif '.txt' in doc and not os.path.exists(path + 'CSV files/'+ doc):\n",
    "        shutil.move(path + doc,path + 'text files/', doc)\n",
    "    elif '.csv' in doc and not os.path.exists(path + 'CSV files/'+ doc):\n",
    "        shutil.move(path + doc,path + 'CSV files/', doc)\n"
   ]
  },
  {
   "cell_type": "code",
   "execution_count": 58,
   "id": "5bb45833",
   "metadata": {},
   "outputs": [],
   "source": []
  },
  {
   "cell_type": "code",
   "execution_count": null,
   "id": "979ace6a",
   "metadata": {},
   "outputs": [],
   "source": []
  },
  {
   "cell_type": "code",
   "execution_count": null,
   "id": "d1bdb094",
   "metadata": {},
   "outputs": [],
   "source": []
  },
  {
   "cell_type": "code",
   "execution_count": null,
   "id": "c342f48a",
   "metadata": {},
   "outputs": [],
   "source": []
  },
  {
   "cell_type": "code",
   "execution_count": null,
   "id": "95d3c090",
   "metadata": {},
   "outputs": [],
   "source": []
  },
  {
   "cell_type": "code",
   "execution_count": null,
   "id": "6413a721",
   "metadata": {},
   "outputs": [],
   "source": []
  },
  {
   "cell_type": "code",
   "execution_count": null,
   "id": "f55d8798",
   "metadata": {},
   "outputs": [],
   "source": []
  },
  {
   "cell_type": "code",
   "execution_count": null,
   "id": "3aea8585",
   "metadata": {},
   "outputs": [],
   "source": []
  },
  {
   "cell_type": "code",
   "execution_count": null,
   "id": "820da934",
   "metadata": {},
   "outputs": [],
   "source": []
  }
 ],
 "metadata": {
  "kernelspec": {
   "display_name": "Python 3 (ipykernel)",
   "language": "python",
   "name": "python3"
  },
  "language_info": {
   "codemirror_mode": {
    "name": "ipython",
    "version": 3
   },
   "file_extension": ".py",
   "mimetype": "text/x-python",
   "name": "python",
   "nbconvert_exporter": "python",
   "pygments_lexer": "ipython3",
   "version": "3.11.5"
  }
 },
 "nbformat": 4,
 "nbformat_minor": 5
}
